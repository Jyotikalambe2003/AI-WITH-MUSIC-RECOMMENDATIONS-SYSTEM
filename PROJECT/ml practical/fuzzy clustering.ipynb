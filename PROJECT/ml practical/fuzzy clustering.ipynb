{
 "cells": [
  {
   "cell_type": "code",
   "execution_count": 9,
   "id": "d9a90978",
   "metadata": {
    "scrolled": true
   },
   "outputs": [
    {
     "ename": "ModuleNotFoundError",
     "evalue": "No module named 'imp'",
     "output_type": "error",
     "traceback": [
      "\u001b[1;31m---------------------------------------------------------------------------\u001b[0m",
      "\u001b[1;31mModuleNotFoundError\u001b[0m                       Traceback (most recent call last)",
      "Cell \u001b[1;32mIn[9], line 4\u001b[0m\n\u001b[0;32m      2\u001b[0m \u001b[38;5;28;01mimport\u001b[39;00m \u001b[38;5;21;01mpandas\u001b[39;00m \u001b[38;5;28;01mas\u001b[39;00m \u001b[38;5;21;01mpd\u001b[39;00m\n\u001b[0;32m      3\u001b[0m \u001b[38;5;28;01mimport\u001b[39;00m \u001b[38;5;21;01mnumpy\u001b[39;00m \u001b[38;5;28;01mas\u001b[39;00m \u001b[38;5;21;01mnp\u001b[39;00m\n\u001b[1;32m----> 4\u001b[0m \u001b[38;5;28;01mimport\u001b[39;00m \u001b[38;5;21;01mskfuzzy\u001b[39;00m \u001b[38;5;28;01mas\u001b[39;00m \u001b[38;5;21;01mfuzz\u001b[39;00m\n\u001b[0;32m      5\u001b[0m \u001b[38;5;28;01mimport\u001b[39;00m \u001b[38;5;21;01mmatplotlib\u001b[39;00m\u001b[38;5;21;01m.\u001b[39;00m\u001b[38;5;21;01mpyplot\u001b[39;00m \u001b[38;5;28;01mas\u001b[39;00m \u001b[38;5;21;01mplt\u001b[39;00m\n",
      "File \u001b[1;32mC:\\Users\\abdul saboor\\AppData\\Local\\Programs\\Python\\Python312\\Lib\\site-packages\\skfuzzy\\__init__.py:65\u001b[0m\n\u001b[0;32m     58\u001b[0m \u001b[38;5;66;03m# Fuzzy control system subpackage\u001b[39;00m\n\u001b[0;32m     59\u001b[0m \u001b[38;5;66;03m# import skfuzzy.control as _control\u001b[39;00m\n\u001b[0;32m     60\u001b[0m \u001b[38;5;66;03m# from skfuzzy.control import *\u001b[39;00m\n\u001b[0;32m     61\u001b[0m \u001b[38;5;66;03m# __all__.extend(_control.__all__)\u001b[39;00m\n\u001b[0;32m     62\u001b[0m \n\u001b[0;32m     63\u001b[0m \u001b[38;5;66;03m# Enable testing of the package\u001b[39;00m\n\u001b[0;32m     64\u001b[0m \u001b[38;5;28;01mimport\u001b[39;00m \u001b[38;5;21;01mos\u001b[39;00m\u001b[38;5;21;01m.\u001b[39;00m\u001b[38;5;21;01mpath\u001b[39;00m \u001b[38;5;28;01mas\u001b[39;00m \u001b[38;5;21;01mosp\u001b[39;00m\n\u001b[1;32m---> 65\u001b[0m \u001b[38;5;28;01mimport\u001b[39;00m \u001b[38;5;21;01mimp\u001b[39;00m\n\u001b[0;32m     66\u001b[0m \u001b[38;5;28;01mimport\u001b[39;00m \u001b[38;5;21;01mfunctools\u001b[39;00m\n\u001b[0;32m     67\u001b[0m \u001b[38;5;28;01mimport\u001b[39;00m \u001b[38;5;21;01mwarnings\u001b[39;00m\n",
      "\u001b[1;31mModuleNotFoundError\u001b[0m: No module named 'imp'"
     ]
    }
   ],
   "source": [
    "import numpy as np\n",
    "import pandas as pd\n",
    "import numpy as np\n",
    "import skfuzzy as fuzz\n",
    "import matplotlib.pyplot as plt\n"
   ]
  },
  {
   "cell_type": "code",
   "execution_count": 10,
   "id": "2c60011c-efdf-4f28-8238-dac1ef8f3e3c",
   "metadata": {},
   "outputs": [
    {
     "name": "stdout",
     "output_type": "stream",
     "text": [
      "Requirement already satisfied: scikit-fuzzy in c:\\users\\abdul saboor\\appdata\\local\\programs\\python\\python312\\lib\\site-packages (0.4.2)"
     ]
    },
    {
     "name": "stderr",
     "output_type": "stream",
     "text": [
      "\n",
      "[notice] A new release of pip is available: 23.2.1 -> 23.3.1\n",
      "[notice] To update, run: C:\\Users\\abdul saboor\\AppData\\Local\\Programs\\Python\\Python312\\python.exe -m pip install --upgrade pip\n"
     ]
    },
    {
     "name": "stdout",
     "output_type": "stream",
     "text": [
      "\n",
      "Requirement already satisfied: numpy>=1.6.0 in c:\\users\\abdul saboor\\appdata\\local\\programs\\python\\python312\\lib\\site-packages (from scikit-fuzzy) (1.26.1)\n",
      "Requirement already satisfied: scipy>=0.9.0 in c:\\users\\abdul saboor\\appdata\\local\\programs\\python\\python312\\lib\\site-packages (from scikit-fuzzy) (1.11.3)\n",
      "Requirement already satisfied: networkx>=1.9.0 in c:\\users\\abdul saboor\\appdata\\local\\programs\\python\\python312\\lib\\site-packages (from scikit-fuzzy) (3.2.1)\n"
     ]
    }
   ],
   "source": [
    "!pip install --upgrade scikit-fuzzy\n"
   ]
  },
  {
   "cell_type": "code",
   "execution_count": null,
   "id": "c350d5ab",
   "metadata": {},
   "outputs": [],
   "source": [
    "# Generate some example data\n",
    "np.random.seed(0)\n",
    "data = pd.DataFrame(np.random.rand(100, 2))\n",
    "data"
   ]
  },
  {
   "cell_type": "code",
   "execution_count": null,
   "id": "7b1fdcce",
   "metadata": {},
   "outputs": [],
   "source": [
    "plt.scatter(data[0],data[1])"
   ]
  },
  {
   "cell_type": "code",
   "execution_count": null,
   "id": "75d4cfa7",
   "metadata": {},
   "outputs": [],
   "source": [
    "# Define the number of clusters\n",
    "n_clusters = 3\n",
    "# Apply fuzzy c-means clustering\n",
    "cntr, u, u0, d, jm, p, fpc = fuzz.cluster.cmeans(data.T, n_clusters, 2, error=0.005, maxiter=1000, init=None)\n",
    "\n"
   ]
  },
  {
   "cell_type": "code",
   "execution_count": null,
   "id": "c1357362",
   "metadata": {},
   "outputs": [],
   "source": [
    "# cluster centers:\n",
    "centroids=pd.DataFrame(cntr)\n",
    "centroids"
   ]
  },
  {
   "cell_type": "code",
   "execution_count": null,
   "id": "25890d08",
   "metadata": {},
   "outputs": [],
   "source": [
    "# degree of member ship for each columns:\n",
    "import pandas as pd\n",
    "# transpose the matrix because by defaults its 3 rows *100 cols where each row represents 1 cluster and each col represent a data point\n",
    "u_transposed = u.T\n",
    "\n",
    "membership_df = pd.DataFrame(u_transposed, columns=['Cluster 1', 'Cluster 2', 'Cluster 3'])\n",
    "membership_df"
   ]
  },
  {
   "cell_type": "code",
   "execution_count": null,
   "id": "35a477fd",
   "metadata": {},
   "outputs": [],
   "source": [
    "# u0 (Initial Guess for Membership):\n",
    "# this tells about the cluster\n",
    "initalguess=pd.DataFrame(u0)\n",
    "initalguess\n"
   ]
  },
  {
   "cell_type": "code",
   "execution_count": null,
   "id": "01523004",
   "metadata": {},
   "outputs": [],
   "source": [
    "# jm (Objective Function Value): it represents cluster quality\n",
    "print(jm)"
   ]
  },
  {
   "cell_type": "code",
   "execution_count": null,
   "id": "0e8aa22c",
   "metadata": {},
   "outputs": [],
   "source": [
    "#p (Related to Membership):  it represents member ship\n",
    "print(p)"
   ]
  },
  {
   "cell_type": "code",
   "execution_count": 6,
   "id": "068a2365",
   "metadata": {},
   "outputs": [
    {
     "ename": "NameError",
     "evalue": "name 'fpc' is not defined",
     "output_type": "error",
     "traceback": [
      "\u001b[1;31m---------------------------------------------------------------------------\u001b[0m",
      "\u001b[1;31mNameError\u001b[0m                                 Traceback (most recent call last)",
      "Cell \u001b[1;32mIn[6], line 2\u001b[0m\n\u001b[0;32m      1\u001b[0m \u001b[38;5;66;03m# tells quality of clusters\u001b[39;00m\n\u001b[1;32m----> 2\u001b[0m \u001b[38;5;28mprint\u001b[39m(\u001b[43mfpc\u001b[49m)\n",
      "\u001b[1;31mNameError\u001b[0m: name 'fpc' is not defined"
     ]
    }
   ],
   "source": [
    "# tells quality of clusters\n",
    "print(fpc)"
   ]
  },
  {
   "cell_type": "code",
   "execution_count": 7,
   "id": "9be8bba1",
   "metadata": {},
   "outputs": [
    {
     "ename": "NameError",
     "evalue": "name 'u' is not defined",
     "output_type": "error",
     "traceback": [
      "\u001b[1;31m---------------------------------------------------------------------------\u001b[0m",
      "\u001b[1;31mNameError\u001b[0m                                 Traceback (most recent call last)",
      "Cell \u001b[1;32mIn[7], line 2\u001b[0m\n\u001b[0;32m      1\u001b[0m \u001b[38;5;66;03m# Predict cluster membership for each data point\u001b[39;00m\n\u001b[1;32m----> 2\u001b[0m cluster_membership \u001b[38;5;241m=\u001b[39m np\u001b[38;5;241m.\u001b[39margmax(\u001b[43mu\u001b[49m, axis\u001b[38;5;241m=\u001b[39m\u001b[38;5;241m0\u001b[39m)\n\u001b[0;32m      3\u001b[0m cluster_membership\n",
      "\u001b[1;31mNameError\u001b[0m: name 'u' is not defined"
     ]
    }
   ],
   "source": [
    "# Predict cluster membership for each data point\n",
    "cluster_membership = np.argmax(u, axis=0)\n",
    "cluster_membership\n",
    "\n",
    "\n"
   ]
  },
  {
   "cell_type": "code",
   "execution_count": 8,
   "id": "0881e096",
   "metadata": {},
   "outputs": [
    {
     "ename": "NameError",
     "evalue": "name 'cluster_membership' is not defined",
     "output_type": "error",
     "traceback": [
      "\u001b[1;31m---------------------------------------------------------------------------\u001b[0m",
      "\u001b[1;31mNameError\u001b[0m                                 Traceback (most recent call last)",
      "Cell \u001b[1;32mIn[8], line 1\u001b[0m\n\u001b[1;32m----> 1\u001b[0m data[\u001b[38;5;124m'\u001b[39m\u001b[38;5;124mlabel\u001b[39m\u001b[38;5;124m'\u001b[39m]\u001b[38;5;241m=\u001b[39m\u001b[43mcluster_membership\u001b[49m\n\u001b[0;32m      2\u001b[0m data\n",
      "\u001b[1;31mNameError\u001b[0m: name 'cluster_membership' is not defined"
     ]
    }
   ],
   "source": [
    "data['label']=cluster_membership\n",
    "data"
   ]
  },
  {
   "cell_type": "code",
   "execution_count": 3,
   "id": "92ebfabb",
   "metadata": {},
   "outputs": [
    {
     "ename": "NameError",
     "evalue": "name 'data' is not defined",
     "output_type": "error",
     "traceback": [
      "\u001b[1;31m---------------------------------------------------------------------------\u001b[0m",
      "\u001b[1;31mNameError\u001b[0m                                 Traceback (most recent call last)",
      "Cell \u001b[1;32mIn[3], line 2\u001b[0m\n\u001b[0;32m      1\u001b[0m \u001b[38;5;66;03m# dividing cluster\u001b[39;00m\n\u001b[1;32m----> 2\u001b[0m c0\u001b[38;5;241m=\u001b[39m\u001b[43mdata\u001b[49m[data[\u001b[38;5;124m\"\u001b[39m\u001b[38;5;124mlabel\u001b[39m\u001b[38;5;124m\"\u001b[39m]\u001b[38;5;241m==\u001b[39m\u001b[38;5;241m0\u001b[39m]\n\u001b[0;32m      3\u001b[0m c1\u001b[38;5;241m=\u001b[39mdata[data[\u001b[38;5;124m\"\u001b[39m\u001b[38;5;124mlabel\u001b[39m\u001b[38;5;124m\"\u001b[39m]\u001b[38;5;241m==\u001b[39m\u001b[38;5;241m1\u001b[39m]\n\u001b[0;32m      4\u001b[0m c2\u001b[38;5;241m=\u001b[39mdata[data[\u001b[38;5;124m\"\u001b[39m\u001b[38;5;124mlabel\u001b[39m\u001b[38;5;124m\"\u001b[39m]\u001b[38;5;241m==\u001b[39m\u001b[38;5;241m2\u001b[39m]\n",
      "\u001b[1;31mNameError\u001b[0m: name 'data' is not defined"
     ]
    }
   ],
   "source": [
    "# dividing cluster\n",
    "c0=data[data[\"label\"]==0]\n",
    "c1=data[data[\"label\"]==1]\n",
    "c2=data[data[\"label\"]==2]"
   ]
  },
  {
   "cell_type": "code",
   "execution_count": 4,
   "id": "2042d11f",
   "metadata": {},
   "outputs": [
    {
     "ename": "NameError",
     "evalue": "name 'plt' is not defined",
     "output_type": "error",
     "traceback": [
      "\u001b[1;31m---------------------------------------------------------------------------\u001b[0m",
      "\u001b[1;31mNameError\u001b[0m                                 Traceback (most recent call last)",
      "Cell \u001b[1;32mIn[4], line 1\u001b[0m\n\u001b[1;32m----> 1\u001b[0m \u001b[43mplt\u001b[49m\u001b[38;5;241m.\u001b[39mscatter(c0[\u001b[38;5;241m0\u001b[39m],c0[\u001b[38;5;241m1\u001b[39m],c\u001b[38;5;241m=\u001b[39m\u001b[38;5;124m'\u001b[39m\u001b[38;5;124mblue\u001b[39m\u001b[38;5;124m'\u001b[39m,label\u001b[38;5;241m=\u001b[39m\u001b[38;5;124m\"\u001b[39m\u001b[38;5;124mcluster 1\u001b[39m\u001b[38;5;124m\"\u001b[39m)\n\u001b[0;32m      2\u001b[0m plt\u001b[38;5;241m.\u001b[39mscatter(c1[\u001b[38;5;241m0\u001b[39m],c1[\u001b[38;5;241m1\u001b[39m],c\u001b[38;5;241m=\u001b[39m\u001b[38;5;124m'\u001b[39m\u001b[38;5;124myellow\u001b[39m\u001b[38;5;124m'\u001b[39m,label\u001b[38;5;241m=\u001b[39m\u001b[38;5;124m\"\u001b[39m\u001b[38;5;124mcluster 2\u001b[39m\u001b[38;5;124m\"\u001b[39m)\n\u001b[0;32m      3\u001b[0m plt\u001b[38;5;241m.\u001b[39mscatter(c2[\u001b[38;5;241m0\u001b[39m],c2[\u001b[38;5;241m1\u001b[39m],c\u001b[38;5;241m=\u001b[39m\u001b[38;5;124m'\u001b[39m\u001b[38;5;124mgreen\u001b[39m\u001b[38;5;124m'\u001b[39m,label\u001b[38;5;241m=\u001b[39m\u001b[38;5;124m\"\u001b[39m\u001b[38;5;124mcluster 3\u001b[39m\u001b[38;5;124m\"\u001b[39m)\n",
      "\u001b[1;31mNameError\u001b[0m: name 'plt' is not defined"
     ]
    }
   ],
   "source": [
    "plt.scatter(c0[0],c0[1],c='blue',label=\"cluster 1\")\n",
    "plt.scatter(c1[0],c1[1],c='yellow',label=\"cluster 2\")\n",
    "plt.scatter(c2[0],c2[1],c='green',label=\"cluster 3\")\n",
    "plt.scatter(centroids[0],centroids[1],marker=\"x\",c=\"purple\",label=\"centroids\",)\n",
    "plt.xlabel(\"col 1\")\n",
    "plt.ylabel(\"col 2\")\n",
    "plt.legend()\n",
    "plt.show()"
   ]
  },
  {
   "cell_type": "code",
   "execution_count": null,
   "id": "1ab489f9-97c4-432c-86d2-6a0eb5529901",
   "metadata": {},
   "outputs": [],
   "source": []
  }
 ],
 "metadata": {
  "kernelspec": {
   "display_name": "Python 3 (ipykernel)",
   "language": "python",
   "name": "python3"
  },
  "language_info": {
   "codemirror_mode": {
    "name": "ipython",
    "version": 3
   },
   "file_extension": ".py",
   "mimetype": "text/x-python",
   "name": "python",
   "nbconvert_exporter": "python",
   "pygments_lexer": "ipython3",
   "version": "3.12.0"
  }
 },
 "nbformat": 4,
 "nbformat_minor": 5
}
